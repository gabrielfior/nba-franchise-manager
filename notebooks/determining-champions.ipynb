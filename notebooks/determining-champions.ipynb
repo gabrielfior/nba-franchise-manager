{
 "cells": [
  {
   "cell_type": "markdown",
   "id": "01c99c91",
   "metadata": {},
   "source": [
    "This notebook receives as input a list of simulation_ids and determines all the champions.\n",
    "\n",
    "The goal is to determine the feasibility of our simulations compared to the real champions. We expect that the actual champions are the most frequent outcome."
   ]
  },
  {
   "cell_type": "code",
   "execution_count": 3,
   "id": "1875d42e",
   "metadata": {},
   "outputs": [],
   "source": [
    "import binarytree as bt\n",
    "import sqlalchemy\n",
    "import pandas as pd\n",
    "pd.options.display.max_rows = 999\n",
    "pd.options.display.max_columns = 999"
   ]
  },
  {
   "cell_type": "code",
   "execution_count": 77,
   "id": "4cd14f91",
   "metadata": {},
   "outputs": [],
   "source": [
    "engine = sqlalchemy.create_engine('sqlite:///../nba_manager.db')"
   ]
  },
  {
   "cell_type": "code",
   "execution_count": 78,
   "id": "7a622cab",
   "metadata": {},
   "outputs": [],
   "source": [
    "SCENARIO_GROUP_ID = '716bb89f-baa4-43b2-bf9b-407f5be6fe4a'"
   ]
  },
  {
   "cell_type": "code",
   "execution_count": 82,
   "id": "add1316a",
   "metadata": {},
   "outputs": [],
   "source": [
    "scenarios = pd.read_sql_query('select * from scenarios where scenario_group_id=\"{}\"'.format(SCENARIO_GROUP_ID), engine)\n",
    "playoff_brackets = pd.read_sql_table('playoff_brackets', engine)\n",
    "playoff_brackets.sort_values('id', ascending=False, inplace=True)\n",
    "teams = pd.read_sql_table('teams', engine)\n",
    "#simulation_id = playoff_brackets.iloc[0]['simulation_id']\n",
    "#simulation_year = playoff_brackets.iloc[0]['year']\n",
    "#nodes_sep_comma = playoff_brackets.iloc[0]['nodes_sep_comma']"
   ]
  },
  {
   "cell_type": "code",
   "execution_count": 83,
   "id": "fc2d2744",
   "metadata": {},
   "outputs": [
    {
     "data": {
      "text/html": [
       "<div>\n",
       "<style scoped>\n",
       "    .dataframe tbody tr th:only-of-type {\n",
       "        vertical-align: middle;\n",
       "    }\n",
       "\n",
       "    .dataframe tbody tr th {\n",
       "        vertical-align: top;\n",
       "    }\n",
       "\n",
       "    .dataframe thead th {\n",
       "        text-align: right;\n",
       "    }\n",
       "</style>\n",
       "<table border=\"1\" class=\"dataframe\">\n",
       "  <thead>\n",
       "    <tr style=\"text-align: right;\">\n",
       "      <th></th>\n",
       "      <th>id</th>\n",
       "      <th>name</th>\n",
       "      <th>short_name</th>\n",
       "      <th>conference</th>\n",
       "      <th>division</th>\n",
       "    </tr>\n",
       "  </thead>\n",
       "  <tbody>\n",
       "    <tr>\n",
       "      <th>13</th>\n",
       "      <td>14</td>\n",
       "      <td>Washington Wizards</td>\n",
       "      <td>WAS</td>\n",
       "      <td>EAST</td>\n",
       "      <td>SOUTHEAST</td>\n",
       "    </tr>\n",
       "  </tbody>\n",
       "</table>\n",
       "</div>"
      ],
      "text/plain": [
       "    id                name short_name conference   division\n",
       "13  14  Washington Wizards        WAS       EAST  SOUTHEAST"
      ]
     },
     "execution_count": 83,
     "metadata": {},
     "output_type": "execute_result"
    }
   ],
   "source": [
    "teams[teams.id==14].head()"
   ]
  },
  {
   "cell_type": "code",
   "execution_count": 84,
   "id": "b1128c65",
   "metadata": {},
   "outputs": [
    {
     "name": "stdout",
     "output_type": "stream",
     "text": [
      "10\n"
     ]
    }
   ],
   "source": [
    "simulation_ids = scenarios.simulation_id.unique().tolist()\n",
    "print (len(simulation_ids))"
   ]
  },
  {
   "cell_type": "code",
   "execution_count": 85,
   "id": "d5056e8c",
   "metadata": {},
   "outputs": [],
   "source": [
    "def get_champions(simulation_ids):\n",
    "    tuples = []\n",
    "    playoff_brackets = pd.read_sql_table('playoff_brackets', engine)\n",
    "    playoff_brackets = playoff_brackets[playoff_brackets.simulation_id.isin(simulation_ids)]\n",
    "    for element in playoff_brackets.itertuples():\n",
    "        champion_id = element.nodes_sep_comma.split(',')[0]\n",
    "        tuples.append((element.year, int(champion_id)))\n",
    "    \n",
    "    return tuples"
   ]
  },
  {
   "cell_type": "code",
   "execution_count": 86,
   "id": "7291dc53",
   "metadata": {},
   "outputs": [],
   "source": [
    "#get_champions(simulation_ids)"
   ]
  },
  {
   "cell_type": "code",
   "execution_count": 87,
   "id": "a36a66c3",
   "metadata": {},
   "outputs": [
    {
     "data": {
      "text/plain": [
       "Washington Wizards        10\n",
       "Toronto Raptors            5\n",
       "Los Angeles Lakers         5\n",
       "Denver Nuggets             4\n",
       "Memphis Grizzlies          4\n",
       "Indiana Pacers             4\n",
       "Charlotte Hornets          3\n",
       "Minnesota Timberwolves     3\n",
       "Boston Celtics             3\n",
       "Los Angeles Clippers       2\n",
       "Oklahoma City Thunder      1\n",
       "Detroit Pistons            1\n",
       "Phoenix Suns               1\n",
       "Orlando Magic              1\n",
       "San Antonio Spurs          1\n",
       "Sacramento Kings           1\n",
       "Milwaukee Bucks            1\n",
       "Name: name, dtype: int64"
      ]
     },
     "execution_count": 87,
     "metadata": {},
     "output_type": "execute_result"
    }
   ],
   "source": [
    "champion_ids = [i[1] for i in get_champions(simulation_ids)]\n",
    "champion_df = pd.DataFrame(dict(champion_id=champion_ids))\n",
    "champion_df_plus = pd.merge(champion_df, teams, left_on='champion_id', right_on='id', copy=True)\n",
    "champion_df_plus.name.value_counts()"
   ]
  },
  {
   "cell_type": "code",
   "execution_count": null,
   "id": "b9ec6e41",
   "metadata": {},
   "outputs": [],
   "source": []
  }
 ],
 "metadata": {
  "kernelspec": {
   "display_name": "Python 3 (ipykernel)",
   "language": "python",
   "name": "python3"
  },
  "language_info": {
   "codemirror_mode": {
    "name": "ipython",
    "version": 3
   },
   "file_extension": ".py",
   "mimetype": "text/x-python",
   "name": "python",
   "nbconvert_exporter": "python",
   "pygments_lexer": "ipython3",
   "version": "3.8.13"
  }
 },
 "nbformat": 4,
 "nbformat_minor": 5
}

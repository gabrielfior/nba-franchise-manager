{
 "cells": [
  {
   "cell_type": "code",
   "execution_count": 2,
   "id": "f316a4a2",
   "metadata": {},
   "outputs": [],
   "source": [
    "from fastai.tabular.all import *\n",
    "import pandas as pd\n",
    "import pathlib"
   ]
  },
  {
   "cell_type": "code",
   "execution_count": 3,
   "id": "db9ec05f",
   "metadata": {},
   "outputs": [
    {
     "data": {
      "text/plain": [
       "pandas.core.series.Series"
      ]
     },
     "execution_count": 3,
     "metadata": {},
     "output_type": "execute_result"
    }
   ],
   "source": [
    "clean_df = pd.read_csv('./df_training_ml.csv')\n",
    "type(clean_df.iloc[0])"
   ]
  },
  {
   "cell_type": "code",
   "execution_count": 99,
   "id": "ae62d2f9",
   "metadata": {},
   "outputs": [],
   "source": [
    "learner2 = load_learner('../models/model_gs.pt')"
   ]
  },
  {
   "cell_type": "code",
   "execution_count": 100,
   "id": "0f09f600",
   "metadata": {},
   "outputs": [
    {
     "data": {
      "text/html": [
       "\n",
       "<style>\n",
       "    /* Turns off some styling */\n",
       "    progress {\n",
       "        /* gets rid of default border in Firefox and Opera. */\n",
       "        border: none;\n",
       "        /* Needs to be in here for Safari polyfill so background images work as expected. */\n",
       "        background-size: auto;\n",
       "    }\n",
       "    .progress-bar-interrupted, .progress-bar-interrupted::-webkit-progress-bar {\n",
       "        background: #F44336;\n",
       "    }\n",
       "</style>\n"
      ],
      "text/plain": [
       "<IPython.core.display.HTML object>"
      ]
     },
     "metadata": {},
     "output_type": "display_data"
    },
    {
     "data": {
      "text/html": [],
      "text/plain": [
       "<IPython.core.display.HTML object>"
      ]
     },
     "metadata": {},
     "output_type": "display_data"
    },
    {
     "data": {
      "text/plain": [
       "(   home_scorer_1  home_scorer_2  home_scorer_3  home_scorer_4  home_scorer_5  \\\n",
       " 0       1.341905       1.539844      -0.493097      -0.525795      -0.298516   \n",
       " \n",
       "    away_scorer_1  away_scorer_2  away_scorer_3  away_scorer_4  away_scorer_5  \\\n",
       " 0       0.170147       0.909272       1.475447      -0.805403      -0.044956   \n",
       " \n",
       "    ...  home_rebounder_2  home_rebounder_3  home_rebounder_4  \\\n",
       " 0  ...          1.449007           2.18121          1.559764   \n",
       " \n",
       "    home_rebounder_5  away_rebounder_1  away_rebounder_2  away_rebounder_3  \\\n",
       " 0          0.414418          -0.25663         -0.779908          -0.19157   \n",
       " \n",
       "    away_rebounder_4  away_rebounder_5  home_won  \n",
       " 0          0.535016          1.261637       1.0  \n",
       " \n",
       " [1 rows x 21 columns],\n",
       " tensor(1),\n",
       " tensor([0.3181, 0.6819]))"
      ]
     },
     "execution_count": 100,
     "metadata": {},
     "output_type": "execute_result"
    }
   ],
   "source": [
    "learner2.predict(clean_df.iloc[0])"
   ]
  },
  {
   "cell_type": "code",
   "execution_count": 80,
   "id": "e955a45c",
   "metadata": {},
   "outputs": [
    {
     "data": {
      "text/plain": [
       "pandas.core.series.Series"
      ]
     },
     "execution_count": 80,
     "metadata": {},
     "output_type": "execute_result"
    }
   ],
   "source": [
    "type(clean_df.iloc[0])"
   ]
  },
  {
   "cell_type": "code",
   "execution_count": 89,
   "id": "9a548187",
   "metadata": {},
   "outputs": [],
   "source": [
    "dict1 = {'home_scorer_1':10., 'home_scorer_2':9., 'home_scorer_3':8.,\n",
    "       'home_scorer_4':6., 'home_scorer_5':5., 'away_scorer_1':19., 'away_scorer_2':18.,\n",
    "       'away_scorer_3': 15., 'away_scorer_4':13., 'away_scorer_5':5.,\n",
    "         'home_rebounder_1': 5.,'home_rebounder_2': 4., 'home_rebounder_3':3, 'home_rebounder_4':2.,\n",
    "       'home_rebounder_5':0.1, 'away_rebounder_1':5, 'away_rebounder_2':4,\n",
    "       'away_rebounder_3':3, 'away_rebounder_4':2, 'away_rebounder_5':1}"
   ]
  },
  {
   "cell_type": "code",
   "execution_count": 91,
   "id": "f5a754b3",
   "metadata": {},
   "outputs": [
    {
     "data": {
      "text/html": [
       "\n",
       "<style>\n",
       "    /* Turns off some styling */\n",
       "    progress {\n",
       "        /* gets rid of default border in Firefox and Opera. */\n",
       "        border: none;\n",
       "        /* Needs to be in here for Safari polyfill so background images work as expected. */\n",
       "        background-size: auto;\n",
       "    }\n",
       "    .progress-bar-interrupted, .progress-bar-interrupted::-webkit-progress-bar {\n",
       "        background: #F44336;\n",
       "    }\n",
       "</style>\n"
      ],
      "text/plain": [
       "<IPython.core.display.HTML object>"
      ]
     },
     "metadata": {},
     "output_type": "display_data"
    },
    {
     "data": {
      "text/html": [],
      "text/plain": [
       "<IPython.core.display.HTML object>"
      ]
     },
     "metadata": {},
     "output_type": "display_data"
    },
    {
     "data": {
      "text/plain": [
       "(   home_scorer_1  home_scorer_2  home_scorer_3  home_scorer_4  home_scorer_5  \\\n",
       " 0      -2.118318      -1.860563       -1.49209      -1.724296      -1.408483   \n",
       " \n",
       "    away_scorer_1  away_scorer_2  away_scorer_3  away_scorer_4  away_scorer_5  \\\n",
       " 0      -0.021193       1.207865       1.341585       1.592512      -1.407863   \n",
       " \n",
       "    ...  home_rebounder_2  home_rebounder_3  home_rebounder_4  \\\n",
       " 0  ...         -1.109938          -1.29976         -1.990079   \n",
       " \n",
       "    home_rebounder_5  away_rebounder_1  away_rebounder_2  away_rebounder_3  \\\n",
       " 0         -3.977546         -1.613865         -1.334563         -1.654017   \n",
       " \n",
       "    away_rebounder_4  away_rebounder_5  home_away_won  \n",
       " 0         -2.559716         -4.171562            0.0  \n",
       " \n",
       " [1 rows x 21 columns],\n",
       " tensor(0),\n",
       " tensor([0.7045, 0.2955]))"
      ]
     },
     "execution_count": 91,
     "metadata": {},
     "output_type": "execute_result"
    }
   ],
   "source": [
    "learner2.predict(pd.Series(dict1))"
   ]
  },
  {
   "cell_type": "code",
   "execution_count": 106,
   "id": "f6b853cf",
   "metadata": {},
   "outputs": [
    {
     "data": {
      "text/html": [
       "\n",
       "<style>\n",
       "    /* Turns off some styling */\n",
       "    progress {\n",
       "        /* gets rid of default border in Firefox and Opera. */\n",
       "        border: none;\n",
       "        /* Needs to be in here for Safari polyfill so background images work as expected. */\n",
       "        background-size: auto;\n",
       "    }\n",
       "    .progress-bar-interrupted, .progress-bar-interrupted::-webkit-progress-bar {\n",
       "        background: #F44336;\n",
       "    }\n",
       "</style>\n"
      ],
      "text/plain": [
       "<IPython.core.display.HTML object>"
      ]
     },
     "metadata": {},
     "output_type": "display_data"
    },
    {
     "data": {
      "text/html": [],
      "text/plain": [
       "<IPython.core.display.HTML object>"
      ]
     },
     "metadata": {},
     "output_type": "display_data"
    },
    {
     "name": "stdout",
     "output_type": "stream",
     "text": [
      "(   home_scorer_1  home_scorer_2  home_scorer_3  home_scorer_4  home_scorer_5  \\\n",
      "0       1.341905       1.539844      -0.493097      -0.525795      -0.298516   \n",
      "\n",
      "   away_scorer_1  away_scorer_2  away_scorer_3  away_scorer_4  away_scorer_5  \\\n",
      "0       0.170147       0.909272       1.475447      -0.805403      -0.044956   \n",
      "\n",
      "   ...  home_rebounder_2  home_rebounder_3  home_rebounder_4  \\\n",
      "0  ...          1.449007           2.18121          1.559764   \n",
      "\n",
      "   home_rebounder_5  away_rebounder_1  away_rebounder_2  away_rebounder_3  \\\n",
      "0          0.414418          -0.25663         -0.779908          -0.19157   \n",
      "\n",
      "   away_rebounder_4  away_rebounder_5  home_won  \n",
      "0          0.535016          1.261637       1.0  \n",
      "\n",
      "[1 rows x 21 columns], tensor(1), tensor([0.3181, 0.6819]))\n"
     ]
    },
    {
     "data": {
      "text/html": [
       "\n",
       "<style>\n",
       "    /* Turns off some styling */\n",
       "    progress {\n",
       "        /* gets rid of default border in Firefox and Opera. */\n",
       "        border: none;\n",
       "        /* Needs to be in here for Safari polyfill so background images work as expected. */\n",
       "        background-size: auto;\n",
       "    }\n",
       "    .progress-bar-interrupted, .progress-bar-interrupted::-webkit-progress-bar {\n",
       "        background: #F44336;\n",
       "    }\n",
       "</style>\n"
      ],
      "text/plain": [
       "<IPython.core.display.HTML object>"
      ]
     },
     "metadata": {},
     "output_type": "display_data"
    },
    {
     "data": {
      "text/html": [],
      "text/plain": [
       "<IPython.core.display.HTML object>"
      ]
     },
     "metadata": {},
     "output_type": "display_data"
    }
   ],
   "source": [
    "print(learner2.predict(clean_df.iloc[0]))\n",
    "row, clas, prob = learner2.predict(clean_df.iloc[0])"
   ]
  },
  {
   "cell_type": "code",
   "execution_count": 109,
   "id": "ccb5029e",
   "metadata": {},
   "outputs": [
    {
     "data": {
      "text/plain": [
       "int"
      ]
     },
     "execution_count": 109,
     "metadata": {},
     "output_type": "execute_result"
    }
   ],
   "source": [
    "type(clas.tolist())"
   ]
  },
  {
   "cell_type": "code",
   "execution_count": null,
   "id": "2ca9adcb",
   "metadata": {},
   "outputs": [],
   "source": []
  }
 ],
 "metadata": {
  "kernelspec": {
   "display_name": "Python 3 (ipykernel)",
   "language": "python",
   "name": "python3"
  },
  "language_info": {
   "codemirror_mode": {
    "name": "ipython",
    "version": 3
   },
   "file_extension": ".py",
   "mimetype": "text/x-python",
   "name": "python",
   "nbconvert_exporter": "python",
   "pygments_lexer": "ipython3",
   "version": "3.8.13"
  }
 },
 "nbformat": 4,
 "nbformat_minor": 5
}

{
 "cells": [
  {
   "cell_type": "code",
   "execution_count": 63,
   "id": "f316a4a2",
   "metadata": {},
   "outputs": [],
   "source": [
    "from fastai.tabular.all import *\n",
    "import pandas as pd\n",
    "import pathlib\n",
    "import numpy as np"
   ]
  },
  {
   "cell_type": "code",
   "execution_count": 2,
   "id": "db9ec05f",
   "metadata": {},
   "outputs": [
    {
     "data": {
      "text/plain": [
       "pandas.core.series.Series"
      ]
     },
     "execution_count": 2,
     "metadata": {},
     "output_type": "execute_result"
    }
   ],
   "source": [
    "clean_df = pd.read_csv('./df_training_ml.csv')\n",
    "type(clean_df.iloc[0])"
   ]
  },
  {
   "cell_type": "code",
   "execution_count": 3,
   "id": "ae62d2f9",
   "metadata": {},
   "outputs": [],
   "source": [
    "learner2 = load_learner('../models/model_gs.pt')"
   ]
  },
  {
   "cell_type": "code",
   "execution_count": 4,
   "id": "0f09f600",
   "metadata": {},
   "outputs": [
    {
     "data": {
      "text/html": [
       "\n",
       "<style>\n",
       "    /* Turns off some styling */\n",
       "    progress {\n",
       "        /* gets rid of default border in Firefox and Opera. */\n",
       "        border: none;\n",
       "        /* Needs to be in here for Safari polyfill so background images work as expected. */\n",
       "        background-size: auto;\n",
       "    }\n",
       "    .progress-bar-interrupted, .progress-bar-interrupted::-webkit-progress-bar {\n",
       "        background: #F44336;\n",
       "    }\n",
       "</style>\n"
      ],
      "text/plain": [
       "<IPython.core.display.HTML object>"
      ]
     },
     "metadata": {},
     "output_type": "display_data"
    },
    {
     "data": {
      "text/html": [],
      "text/plain": [
       "<IPython.core.display.HTML object>"
      ]
     },
     "metadata": {},
     "output_type": "display_data"
    },
    {
     "data": {
      "text/plain": [
       "(   home_scorer_1  home_scorer_2  home_scorer_3  home_scorer_4  home_scorer_5  \\\n",
       " 0       1.341905       1.539844      -0.493097      -0.525795      -0.298516   \n",
       " \n",
       "    away_scorer_1  away_scorer_2  away_scorer_3  away_scorer_4  away_scorer_5  \\\n",
       " 0       0.170147       0.909272       1.475447      -0.805403      -0.044956   \n",
       " \n",
       "    ...  home_rebounder_2  home_rebounder_3  home_rebounder_4  \\\n",
       " 0  ...          1.449007           2.18121          1.559764   \n",
       " \n",
       "    home_rebounder_5  away_rebounder_1  away_rebounder_2  away_rebounder_3  \\\n",
       " 0          0.414418          -0.25663         -0.779908          -0.19157   \n",
       " \n",
       "    away_rebounder_4  away_rebounder_5  home_won  \n",
       " 0          0.535016          1.261637       1.0  \n",
       " \n",
       " [1 rows x 21 columns],\n",
       " tensor(1),\n",
       " tensor([0.3181, 0.6819]))"
      ]
     },
     "execution_count": 4,
     "metadata": {},
     "output_type": "execute_result"
    }
   ],
   "source": [
    "learner2.predict(clean_df.iloc[0])"
   ]
  },
  {
   "cell_type": "code",
   "execution_count": 5,
   "id": "e955a45c",
   "metadata": {},
   "outputs": [
    {
     "data": {
      "text/plain": [
       "pandas.core.series.Series"
      ]
     },
     "execution_count": 5,
     "metadata": {},
     "output_type": "execute_result"
    }
   ],
   "source": [
    "type(clean_df.iloc[0])"
   ]
  },
  {
   "cell_type": "code",
   "execution_count": 6,
   "id": "9a548187",
   "metadata": {},
   "outputs": [],
   "source": [
    "dict1 = {'home_scorer_1':10., 'home_scorer_2':9., 'home_scorer_3':8.,\n",
    "       'home_scorer_4':6., 'home_scorer_5':5., 'away_scorer_1':19., 'away_scorer_2':18.,\n",
    "       'away_scorer_3': 15., 'away_scorer_4':13., 'away_scorer_5':5.,\n",
    "         'home_rebounder_1': 5.,'home_rebounder_2': 4., 'home_rebounder_3':3, 'home_rebounder_4':2.,\n",
    "       'home_rebounder_5':0.1, 'away_rebounder_1':5, 'away_rebounder_2':4,\n",
    "       'away_rebounder_3':3, 'away_rebounder_4':2, 'away_rebounder_5':1}"
   ]
  },
  {
   "cell_type": "code",
   "execution_count": 7,
   "id": "f5a754b3",
   "metadata": {},
   "outputs": [
    {
     "data": {
      "text/html": [
       "\n",
       "<style>\n",
       "    /* Turns off some styling */\n",
       "    progress {\n",
       "        /* gets rid of default border in Firefox and Opera. */\n",
       "        border: none;\n",
       "        /* Needs to be in here for Safari polyfill so background images work as expected. */\n",
       "        background-size: auto;\n",
       "    }\n",
       "    .progress-bar-interrupted, .progress-bar-interrupted::-webkit-progress-bar {\n",
       "        background: #F44336;\n",
       "    }\n",
       "</style>\n"
      ],
      "text/plain": [
       "<IPython.core.display.HTML object>"
      ]
     },
     "metadata": {},
     "output_type": "display_data"
    },
    {
     "data": {
      "text/html": [],
      "text/plain": [
       "<IPython.core.display.HTML object>"
      ]
     },
     "metadata": {},
     "output_type": "display_data"
    },
    {
     "data": {
      "text/plain": [
       "(   home_scorer_1  home_scorer_2  home_scorer_3  home_scorer_4  home_scorer_5  \\\n",
       " 0      -2.134515      -1.872727      -1.505851      -1.741949      -1.421627   \n",
       " \n",
       "    away_scorer_1  away_scorer_2  away_scorer_3  away_scorer_4  away_scorer_5  \\\n",
       " 0      -0.032814       1.205871       1.346297       1.566919      -1.410483   \n",
       " \n",
       "    ...  home_rebounder_2  home_rebounder_3  home_rebounder_4  \\\n",
       " 0  ...         -1.128209         -1.310471         -2.013694   \n",
       " \n",
       "    home_rebounder_5  away_rebounder_1  away_rebounder_2  away_rebounder_3  \\\n",
       " 0         -4.016935         -1.254631         -1.116598         -1.300052   \n",
       " \n",
       "    away_rebounder_4  away_rebounder_5  home_won  \n",
       " 0         -1.999187         -2.739885       0.0  \n",
       " \n",
       " [1 rows x 21 columns],\n",
       " tensor(0),\n",
       " tensor([0.7805, 0.2195]))"
      ]
     },
     "execution_count": 7,
     "metadata": {},
     "output_type": "execute_result"
    }
   ],
   "source": [
    "learner2.predict(pd.Series(dict1))"
   ]
  },
  {
   "cell_type": "code",
   "execution_count": 8,
   "id": "f6b853cf",
   "metadata": {},
   "outputs": [
    {
     "data": {
      "text/html": [
       "\n",
       "<style>\n",
       "    /* Turns off some styling */\n",
       "    progress {\n",
       "        /* gets rid of default border in Firefox and Opera. */\n",
       "        border: none;\n",
       "        /* Needs to be in here for Safari polyfill so background images work as expected. */\n",
       "        background-size: auto;\n",
       "    }\n",
       "    .progress-bar-interrupted, .progress-bar-interrupted::-webkit-progress-bar {\n",
       "        background: #F44336;\n",
       "    }\n",
       "</style>\n"
      ],
      "text/plain": [
       "<IPython.core.display.HTML object>"
      ]
     },
     "metadata": {},
     "output_type": "display_data"
    },
    {
     "data": {
      "text/html": [],
      "text/plain": [
       "<IPython.core.display.HTML object>"
      ]
     },
     "metadata": {},
     "output_type": "display_data"
    },
    {
     "name": "stdout",
     "output_type": "stream",
     "text": [
      "(   home_scorer_1  home_scorer_2  home_scorer_3  home_scorer_4  home_scorer_5  \\\n",
      "0       1.341905       1.539844      -0.493097      -0.525795      -0.298516   \n",
      "\n",
      "   away_scorer_1  away_scorer_2  away_scorer_3  away_scorer_4  away_scorer_5  \\\n",
      "0       0.170147       0.909272       1.475447      -0.805403      -0.044956   \n",
      "\n",
      "   ...  home_rebounder_2  home_rebounder_3  home_rebounder_4  \\\n",
      "0  ...          1.449007           2.18121          1.559764   \n",
      "\n",
      "   home_rebounder_5  away_rebounder_1  away_rebounder_2  away_rebounder_3  \\\n",
      "0          0.414418          -0.25663         -0.779908          -0.19157   \n",
      "\n",
      "   away_rebounder_4  away_rebounder_5  home_won  \n",
      "0          0.535016          1.261637       1.0  \n",
      "\n",
      "[1 rows x 21 columns], tensor(1), tensor([0.3181, 0.6819]))\n"
     ]
    },
    {
     "data": {
      "text/html": [
       "\n",
       "<style>\n",
       "    /* Turns off some styling */\n",
       "    progress {\n",
       "        /* gets rid of default border in Firefox and Opera. */\n",
       "        border: none;\n",
       "        /* Needs to be in here for Safari polyfill so background images work as expected. */\n",
       "        background-size: auto;\n",
       "    }\n",
       "    .progress-bar-interrupted, .progress-bar-interrupted::-webkit-progress-bar {\n",
       "        background: #F44336;\n",
       "    }\n",
       "</style>\n"
      ],
      "text/plain": [
       "<IPython.core.display.HTML object>"
      ]
     },
     "metadata": {},
     "output_type": "display_data"
    },
    {
     "data": {
      "text/html": [],
      "text/plain": [
       "<IPython.core.display.HTML object>"
      ]
     },
     "metadata": {},
     "output_type": "display_data"
    }
   ],
   "source": [
    "print(learner2.predict(clean_df.iloc[0]))\n",
    "row, clas, prob = learner2.predict(clean_df.iloc[0])"
   ]
  },
  {
   "cell_type": "code",
   "execution_count": 10,
   "id": "ccb5029e",
   "metadata": {},
   "outputs": [
    {
     "data": {
      "text/plain": [
       "home_won             0.000000\n",
       "home_scorer_1       24.951220\n",
       "home_scorer_2       19.012195\n",
       "home_scorer_3       10.500000\n",
       "home_scorer_4        8.548780\n",
       "home_scorer_5        7.402439\n",
       "away_scorer_1       19.878049\n",
       "away_scorer_2       17.134146\n",
       "away_scorer_3       15.317073\n",
       "away_scorer_4        7.951220\n",
       "away_scorer_5        7.951220\n",
       "home_rebounder_1     7.426829\n",
       "home_rebounder_2     7.170732\n",
       "home_rebounder_3     6.463415\n",
       "home_rebounder_4     4.926829\n",
       "home_rebounder_5     3.341463\n",
       "away_rebounder_1     7.268293\n",
       "away_rebounder_2     4.414634\n",
       "away_rebounder_3     4.097561\n",
       "away_rebounder_4     4.085366\n",
       "away_rebounder_5     3.963415\n",
       "Name: 0, dtype: float64"
      ]
     },
     "execution_count": 10,
     "metadata": {},
     "output_type": "execute_result"
    }
   ],
   "source": [
    "clean_df.iloc[0]"
   ]
  },
  {
   "cell_type": "code",
   "execution_count": 30,
   "id": "2ca9adcb",
   "metadata": {},
   "outputs": [],
   "source": [
    "# = Datasets(clean_df.iloc[0])\n",
    "test_dl = learner2.dls.test_dl(clean_df) # Create a test dataloader"
   ]
  },
  {
   "cell_type": "code",
   "execution_count": 50,
   "id": "777ccc59",
   "metadata": {},
   "outputs": [
    {
     "data": {
      "text/html": [
       "\n",
       "<style>\n",
       "    /* Turns off some styling */\n",
       "    progress {\n",
       "        /* gets rid of default border in Firefox and Opera. */\n",
       "        border: none;\n",
       "        /* Needs to be in here for Safari polyfill so background images work as expected. */\n",
       "        background-size: auto;\n",
       "    }\n",
       "    .progress-bar-interrupted, .progress-bar-interrupted::-webkit-progress-bar {\n",
       "        background: #F44336;\n",
       "    }\n",
       "</style>\n"
      ],
      "text/plain": [
       "<IPython.core.display.HTML object>"
      ]
     },
     "metadata": {},
     "output_type": "display_data"
    },
    {
     "data": {
      "text/html": [],
      "text/plain": [
       "<IPython.core.display.HTML object>"
      ]
     },
     "metadata": {},
     "output_type": "display_data"
    }
   ],
   "source": [
    "#learner2.get_preds(dl=[clean_df.iloc[0]])\n",
    "a = learner2.get_preds(dl = test_dl, reorder=False) # Make predictions on it"
   ]
  },
  {
   "cell_type": "code",
   "execution_count": 51,
   "id": "2488d571",
   "metadata": {},
   "outputs": [
    {
     "data": {
      "text/plain": [
       "6261"
      ]
     },
     "execution_count": 51,
     "metadata": {},
     "output_type": "execute_result"
    }
   ],
   "source": [
    "len(a[0])"
   ]
  },
  {
   "cell_type": "code",
   "execution_count": 52,
   "id": "287111a8",
   "metadata": {},
   "outputs": [
    {
     "data": {
      "text/plain": [
       "6261"
      ]
     },
     "execution_count": 52,
     "metadata": {},
     "output_type": "execute_result"
    }
   ],
   "source": [
    "len(clean_df)"
   ]
  },
  {
   "cell_type": "code",
   "execution_count": 53,
   "id": "c7230d37",
   "metadata": {},
   "outputs": [
    {
     "data": {
      "text/plain": [
       "6261"
      ]
     },
     "execution_count": 53,
     "metadata": {},
     "output_type": "execute_result"
    }
   ],
   "source": [
    "len(a[1])"
   ]
  },
  {
   "cell_type": "code",
   "execution_count": 54,
   "id": "3297af33",
   "metadata": {},
   "outputs": [
    {
     "data": {
      "text/plain": [
       "tensor([[0.3181, 0.6819],\n",
       "        [0.4882, 0.5118],\n",
       "        [0.3181, 0.6819],\n",
       "        ...,\n",
       "        [0.6065, 0.3935],\n",
       "        [0.5504, 0.4496],\n",
       "        [0.2722, 0.7278]])"
      ]
     },
     "execution_count": 54,
     "metadata": {},
     "output_type": "execute_result"
    }
   ],
   "source": [
    "a[0]"
   ]
  },
  {
   "cell_type": "code",
   "execution_count": 55,
   "id": "09aa289f",
   "metadata": {},
   "outputs": [
    {
     "data": {
      "text/html": [
       "<div>\n",
       "<style scoped>\n",
       "    .dataframe tbody tr th:only-of-type {\n",
       "        vertical-align: middle;\n",
       "    }\n",
       "\n",
       "    .dataframe tbody tr th {\n",
       "        vertical-align: top;\n",
       "    }\n",
       "\n",
       "    .dataframe thead th {\n",
       "        text-align: right;\n",
       "    }\n",
       "</style>\n",
       "<table border=\"1\" class=\"dataframe\">\n",
       "  <thead>\n",
       "    <tr style=\"text-align: right;\">\n",
       "      <th></th>\n",
       "      <th>home_won</th>\n",
       "      <th>home_scorer_1</th>\n",
       "      <th>home_scorer_2</th>\n",
       "      <th>home_scorer_3</th>\n",
       "      <th>home_scorer_4</th>\n",
       "      <th>home_scorer_5</th>\n",
       "      <th>away_scorer_1</th>\n",
       "      <th>away_scorer_2</th>\n",
       "      <th>away_scorer_3</th>\n",
       "      <th>away_scorer_4</th>\n",
       "      <th>...</th>\n",
       "      <th>home_rebounder_1</th>\n",
       "      <th>home_rebounder_2</th>\n",
       "      <th>home_rebounder_3</th>\n",
       "      <th>home_rebounder_4</th>\n",
       "      <th>home_rebounder_5</th>\n",
       "      <th>away_rebounder_1</th>\n",
       "      <th>away_rebounder_2</th>\n",
       "      <th>away_rebounder_3</th>\n",
       "      <th>away_rebounder_4</th>\n",
       "      <th>away_rebounder_5</th>\n",
       "    </tr>\n",
       "  </thead>\n",
       "  <tbody>\n",
       "    <tr>\n",
       "      <th>0</th>\n",
       "      <td>0</td>\n",
       "      <td>24.951220</td>\n",
       "      <td>19.012195</td>\n",
       "      <td>10.500000</td>\n",
       "      <td>8.548780</td>\n",
       "      <td>7.402439</td>\n",
       "      <td>19.878049</td>\n",
       "      <td>17.134146</td>\n",
       "      <td>15.317073</td>\n",
       "      <td>7.951220</td>\n",
       "      <td>...</td>\n",
       "      <td>7.426829</td>\n",
       "      <td>7.170732</td>\n",
       "      <td>6.463415</td>\n",
       "      <td>4.926829</td>\n",
       "      <td>3.341463</td>\n",
       "      <td>7.268293</td>\n",
       "      <td>4.414634</td>\n",
       "      <td>4.097561</td>\n",
       "      <td>4.085366</td>\n",
       "      <td>3.963415</td>\n",
       "    </tr>\n",
       "    <tr>\n",
       "      <th>1</th>\n",
       "      <td>1</td>\n",
       "      <td>19.878049</td>\n",
       "      <td>17.134146</td>\n",
       "      <td>15.317073</td>\n",
       "      <td>7.951220</td>\n",
       "      <td>7.951220</td>\n",
       "      <td>24.951220</td>\n",
       "      <td>19.012195</td>\n",
       "      <td>10.500000</td>\n",
       "      <td>8.548780</td>\n",
       "      <td>...</td>\n",
       "      <td>7.268293</td>\n",
       "      <td>4.414634</td>\n",
       "      <td>4.097561</td>\n",
       "      <td>4.085366</td>\n",
       "      <td>3.963415</td>\n",
       "      <td>7.426829</td>\n",
       "      <td>7.170732</td>\n",
       "      <td>6.463415</td>\n",
       "      <td>4.926829</td>\n",
       "      <td>3.341463</td>\n",
       "    </tr>\n",
       "    <tr>\n",
       "      <th>2</th>\n",
       "      <td>0</td>\n",
       "      <td>24.951220</td>\n",
       "      <td>19.012195</td>\n",
       "      <td>10.500000</td>\n",
       "      <td>8.548780</td>\n",
       "      <td>7.402439</td>\n",
       "      <td>19.878049</td>\n",
       "      <td>17.134146</td>\n",
       "      <td>15.317073</td>\n",
       "      <td>7.951220</td>\n",
       "      <td>...</td>\n",
       "      <td>7.426829</td>\n",
       "      <td>7.170732</td>\n",
       "      <td>6.463415</td>\n",
       "      <td>4.926829</td>\n",
       "      <td>3.341463</td>\n",
       "      <td>7.268293</td>\n",
       "      <td>4.414634</td>\n",
       "      <td>4.097561</td>\n",
       "      <td>4.085366</td>\n",
       "      <td>3.963415</td>\n",
       "    </tr>\n",
       "    <tr>\n",
       "      <th>3</th>\n",
       "      <td>1</td>\n",
       "      <td>24.951220</td>\n",
       "      <td>19.012195</td>\n",
       "      <td>10.500000</td>\n",
       "      <td>8.548780</td>\n",
       "      <td>7.402439</td>\n",
       "      <td>19.878049</td>\n",
       "      <td>17.134146</td>\n",
       "      <td>15.317073</td>\n",
       "      <td>7.951220</td>\n",
       "      <td>...</td>\n",
       "      <td>7.426829</td>\n",
       "      <td>7.170732</td>\n",
       "      <td>6.463415</td>\n",
       "      <td>4.926829</td>\n",
       "      <td>3.341463</td>\n",
       "      <td>7.268293</td>\n",
       "      <td>4.414634</td>\n",
       "      <td>4.097561</td>\n",
       "      <td>4.085366</td>\n",
       "      <td>3.963415</td>\n",
       "    </tr>\n",
       "    <tr>\n",
       "      <th>4</th>\n",
       "      <td>1</td>\n",
       "      <td>19.878049</td>\n",
       "      <td>17.134146</td>\n",
       "      <td>15.317073</td>\n",
       "      <td>7.951220</td>\n",
       "      <td>7.951220</td>\n",
       "      <td>24.951220</td>\n",
       "      <td>19.012195</td>\n",
       "      <td>10.500000</td>\n",
       "      <td>8.548780</td>\n",
       "      <td>...</td>\n",
       "      <td>7.268293</td>\n",
       "      <td>4.414634</td>\n",
       "      <td>4.097561</td>\n",
       "      <td>4.085366</td>\n",
       "      <td>3.963415</td>\n",
       "      <td>7.426829</td>\n",
       "      <td>7.170732</td>\n",
       "      <td>6.463415</td>\n",
       "      <td>4.926829</td>\n",
       "      <td>3.341463</td>\n",
       "    </tr>\n",
       "    <tr>\n",
       "      <th>...</th>\n",
       "      <td>...</td>\n",
       "      <td>...</td>\n",
       "      <td>...</td>\n",
       "      <td>...</td>\n",
       "      <td>...</td>\n",
       "      <td>...</td>\n",
       "      <td>...</td>\n",
       "      <td>...</td>\n",
       "      <td>...</td>\n",
       "      <td>...</td>\n",
       "      <td>...</td>\n",
       "      <td>...</td>\n",
       "      <td>...</td>\n",
       "      <td>...</td>\n",
       "      <td>...</td>\n",
       "      <td>...</td>\n",
       "      <td>...</td>\n",
       "      <td>...</td>\n",
       "      <td>...</td>\n",
       "      <td>...</td>\n",
       "      <td>...</td>\n",
       "    </tr>\n",
       "    <tr>\n",
       "      <th>6256</th>\n",
       "      <td>0</td>\n",
       "      <td>16.414634</td>\n",
       "      <td>15.500000</td>\n",
       "      <td>12.341463</td>\n",
       "      <td>7.158537</td>\n",
       "      <td>6.780488</td>\n",
       "      <td>23.926829</td>\n",
       "      <td>21.121951</td>\n",
       "      <td>13.804878</td>\n",
       "      <td>7.853659</td>\n",
       "      <td>...</td>\n",
       "      <td>6.317073</td>\n",
       "      <td>4.817073</td>\n",
       "      <td>4.280488</td>\n",
       "      <td>4.060976</td>\n",
       "      <td>2.975610</td>\n",
       "      <td>8.634146</td>\n",
       "      <td>6.402439</td>\n",
       "      <td>3.963415</td>\n",
       "      <td>3.914634</td>\n",
       "      <td>2.695122</td>\n",
       "    </tr>\n",
       "    <tr>\n",
       "      <th>6257</th>\n",
       "      <td>1</td>\n",
       "      <td>19.707317</td>\n",
       "      <td>12.292683</td>\n",
       "      <td>11.512195</td>\n",
       "      <td>11.463415</td>\n",
       "      <td>9.219512</td>\n",
       "      <td>16.890244</td>\n",
       "      <td>16.487805</td>\n",
       "      <td>15.463415</td>\n",
       "      <td>14.268293</td>\n",
       "      <td>...</td>\n",
       "      <td>7.329268</td>\n",
       "      <td>6.731707</td>\n",
       "      <td>4.280488</td>\n",
       "      <td>4.195122</td>\n",
       "      <td>3.609756</td>\n",
       "      <td>9.792683</td>\n",
       "      <td>4.987805</td>\n",
       "      <td>4.878049</td>\n",
       "      <td>4.231707</td>\n",
       "      <td>3.621951</td>\n",
       "    </tr>\n",
       "    <tr>\n",
       "      <th>6258</th>\n",
       "      <td>0</td>\n",
       "      <td>17.707317</td>\n",
       "      <td>12.780488</td>\n",
       "      <td>8.182927</td>\n",
       "      <td>4.707317</td>\n",
       "      <td>1.597561</td>\n",
       "      <td>15.865854</td>\n",
       "      <td>14.121951</td>\n",
       "      <td>10.195122</td>\n",
       "      <td>9.475610</td>\n",
       "      <td>...</td>\n",
       "      <td>5.707317</td>\n",
       "      <td>5.414634</td>\n",
       "      <td>3.170732</td>\n",
       "      <td>2.853659</td>\n",
       "      <td>2.048780</td>\n",
       "      <td>6.597561</td>\n",
       "      <td>5.963415</td>\n",
       "      <td>4.743902</td>\n",
       "      <td>3.024390</td>\n",
       "      <td>2.804878</td>\n",
       "    </tr>\n",
       "    <tr>\n",
       "      <th>6259</th>\n",
       "      <td>0</td>\n",
       "      <td>21.853659</td>\n",
       "      <td>17.817073</td>\n",
       "      <td>16.414634</td>\n",
       "      <td>9.426829</td>\n",
       "      <td>4.682927</td>\n",
       "      <td>26.719512</td>\n",
       "      <td>15.158537</td>\n",
       "      <td>13.182927</td>\n",
       "      <td>12.512195</td>\n",
       "      <td>...</td>\n",
       "      <td>6.524390</td>\n",
       "      <td>5.658537</td>\n",
       "      <td>3.378049</td>\n",
       "      <td>3.182927</td>\n",
       "      <td>3.000000</td>\n",
       "      <td>9.780488</td>\n",
       "      <td>5.573171</td>\n",
       "      <td>4.743902</td>\n",
       "      <td>3.817073</td>\n",
       "      <td>3.585366</td>\n",
       "    </tr>\n",
       "    <tr>\n",
       "      <th>6260</th>\n",
       "      <td>1</td>\n",
       "      <td>27.451220</td>\n",
       "      <td>12.670732</td>\n",
       "      <td>10.317073</td>\n",
       "      <td>3.743902</td>\n",
       "      <td>2.902439</td>\n",
       "      <td>17.878049</td>\n",
       "      <td>13.560976</td>\n",
       "      <td>12.402439</td>\n",
       "      <td>11.304878</td>\n",
       "      <td>...</td>\n",
       "      <td>8.646341</td>\n",
       "      <td>6.658537</td>\n",
       "      <td>4.292683</td>\n",
       "      <td>3.000000</td>\n",
       "      <td>1.463415</td>\n",
       "      <td>6.475610</td>\n",
       "      <td>4.902439</td>\n",
       "      <td>4.585366</td>\n",
       "      <td>4.219512</td>\n",
       "      <td>3.524390</td>\n",
       "    </tr>\n",
       "  </tbody>\n",
       "</table>\n",
       "<p>6261 rows × 21 columns</p>\n",
       "</div>"
      ],
      "text/plain": [
       "      home_won  home_scorer_1  home_scorer_2  home_scorer_3  home_scorer_4  \\\n",
       "0            0      24.951220      19.012195      10.500000       8.548780   \n",
       "1            1      19.878049      17.134146      15.317073       7.951220   \n",
       "2            0      24.951220      19.012195      10.500000       8.548780   \n",
       "3            1      24.951220      19.012195      10.500000       8.548780   \n",
       "4            1      19.878049      17.134146      15.317073       7.951220   \n",
       "...        ...            ...            ...            ...            ...   \n",
       "6256         0      16.414634      15.500000      12.341463       7.158537   \n",
       "6257         1      19.707317      12.292683      11.512195      11.463415   \n",
       "6258         0      17.707317      12.780488       8.182927       4.707317   \n",
       "6259         0      21.853659      17.817073      16.414634       9.426829   \n",
       "6260         1      27.451220      12.670732      10.317073       3.743902   \n",
       "\n",
       "      home_scorer_5  away_scorer_1  away_scorer_2  away_scorer_3  \\\n",
       "0          7.402439      19.878049      17.134146      15.317073   \n",
       "1          7.951220      24.951220      19.012195      10.500000   \n",
       "2          7.402439      19.878049      17.134146      15.317073   \n",
       "3          7.402439      19.878049      17.134146      15.317073   \n",
       "4          7.951220      24.951220      19.012195      10.500000   \n",
       "...             ...            ...            ...            ...   \n",
       "6256       6.780488      23.926829      21.121951      13.804878   \n",
       "6257       9.219512      16.890244      16.487805      15.463415   \n",
       "6258       1.597561      15.865854      14.121951      10.195122   \n",
       "6259       4.682927      26.719512      15.158537      13.182927   \n",
       "6260       2.902439      17.878049      13.560976      12.402439   \n",
       "\n",
       "      away_scorer_4  ...  home_rebounder_1  home_rebounder_2  \\\n",
       "0          7.951220  ...          7.426829          7.170732   \n",
       "1          8.548780  ...          7.268293          4.414634   \n",
       "2          7.951220  ...          7.426829          7.170732   \n",
       "3          7.951220  ...          7.426829          7.170732   \n",
       "4          8.548780  ...          7.268293          4.414634   \n",
       "...             ...  ...               ...               ...   \n",
       "6256       7.853659  ...          6.317073          4.817073   \n",
       "6257      14.268293  ...          7.329268          6.731707   \n",
       "6258       9.475610  ...          5.707317          5.414634   \n",
       "6259      12.512195  ...          6.524390          5.658537   \n",
       "6260      11.304878  ...          8.646341          6.658537   \n",
       "\n",
       "      home_rebounder_3  home_rebounder_4  home_rebounder_5  away_rebounder_1  \\\n",
       "0             6.463415          4.926829          3.341463          7.268293   \n",
       "1             4.097561          4.085366          3.963415          7.426829   \n",
       "2             6.463415          4.926829          3.341463          7.268293   \n",
       "3             6.463415          4.926829          3.341463          7.268293   \n",
       "4             4.097561          4.085366          3.963415          7.426829   \n",
       "...                ...               ...               ...               ...   \n",
       "6256          4.280488          4.060976          2.975610          8.634146   \n",
       "6257          4.280488          4.195122          3.609756          9.792683   \n",
       "6258          3.170732          2.853659          2.048780          6.597561   \n",
       "6259          3.378049          3.182927          3.000000          9.780488   \n",
       "6260          4.292683          3.000000          1.463415          6.475610   \n",
       "\n",
       "      away_rebounder_2  away_rebounder_3  away_rebounder_4  away_rebounder_5  \n",
       "0             4.414634          4.097561          4.085366          3.963415  \n",
       "1             7.170732          6.463415          4.926829          3.341463  \n",
       "2             4.414634          4.097561          4.085366          3.963415  \n",
       "3             4.414634          4.097561          4.085366          3.963415  \n",
       "4             7.170732          6.463415          4.926829          3.341463  \n",
       "...                ...               ...               ...               ...  \n",
       "6256          6.402439          3.963415          3.914634          2.695122  \n",
       "6257          4.987805          4.878049          4.231707          3.621951  \n",
       "6258          5.963415          4.743902          3.024390          2.804878  \n",
       "6259          5.573171          4.743902          3.817073          3.585366  \n",
       "6260          4.902439          4.585366          4.219512          3.524390  \n",
       "\n",
       "[6261 rows x 21 columns]"
      ]
     },
     "execution_count": 55,
     "metadata": {},
     "output_type": "execute_result"
    }
   ],
   "source": [
    "clean_df"
   ]
  },
  {
   "cell_type": "code",
   "execution_count": 56,
   "id": "9a26ee8a",
   "metadata": {},
   "outputs": [
    {
     "data": {
      "text/plain": [
       "tensor([[0.3181, 0.6819],\n",
       "        [0.4882, 0.5118],\n",
       "        [0.3181, 0.6819],\n",
       "        ...,\n",
       "        [0.6065, 0.3935],\n",
       "        [0.5504, 0.4496],\n",
       "        [0.2722, 0.7278]])"
      ]
     },
     "execution_count": 56,
     "metadata": {},
     "output_type": "execute_result"
    }
   ],
   "source": [
    "a[0]"
   ]
  },
  {
   "cell_type": "code",
   "execution_count": 57,
   "id": "5ac5bc2b",
   "metadata": {},
   "outputs": [
    {
     "data": {
      "text/plain": [
       "tensor([[0],\n",
       "        [1],\n",
       "        [0],\n",
       "        ...,\n",
       "        [0],\n",
       "        [0],\n",
       "        [1]], dtype=torch.int8)"
      ]
     },
     "execution_count": 57,
     "metadata": {},
     "output_type": "execute_result"
    }
   ],
   "source": [
    "a[1]"
   ]
  },
  {
   "cell_type": "code",
   "execution_count": 62,
   "id": "6b8f2702",
   "metadata": {},
   "outputs": [
    {
     "data": {
      "text/html": [
       "\n",
       "<style>\n",
       "    /* Turns off some styling */\n",
       "    progress {\n",
       "        /* gets rid of default border in Firefox and Opera. */\n",
       "        border: none;\n",
       "        /* Needs to be in here for Safari polyfill so background images work as expected. */\n",
       "        background-size: auto;\n",
       "    }\n",
       "    .progress-bar-interrupted, .progress-bar-interrupted::-webkit-progress-bar {\n",
       "        background: #F44336;\n",
       "    }\n",
       "</style>\n"
      ],
      "text/plain": [
       "<IPython.core.display.HTML object>"
      ]
     },
     "metadata": {},
     "output_type": "display_data"
    },
    {
     "data": {
      "text/html": [],
      "text/plain": [
       "<IPython.core.display.HTML object>"
      ]
     },
     "metadata": {},
     "output_type": "display_data"
    },
    {
     "data": {
      "text/plain": [
       "(   home_scorer_1  home_scorer_2  home_scorer_3  home_scorer_4  home_scorer_5  \\\n",
       " 0       1.341905       1.539844      -0.493097      -0.525795      -0.298516   \n",
       " \n",
       "    away_scorer_1  away_scorer_2  away_scorer_3  away_scorer_4  away_scorer_5  \\\n",
       " 0       0.170147       0.909272       1.475447      -0.805403      -0.044956   \n",
       " \n",
       "    ...  home_rebounder_2  home_rebounder_3  home_rebounder_4  \\\n",
       " 0  ...          1.449007           2.18121          1.559764   \n",
       " \n",
       "    home_rebounder_5  away_rebounder_1  away_rebounder_2  away_rebounder_3  \\\n",
       " 0          0.414418          -0.25663         -0.779908          -0.19157   \n",
       " \n",
       "    away_rebounder_4  away_rebounder_5  home_won  \n",
       " 0          0.535016          1.261637       1.0  \n",
       " \n",
       " [1 rows x 21 columns],\n",
       " tensor(1),\n",
       " tensor([0.3181, 0.6819]))"
      ]
     },
     "execution_count": 62,
     "metadata": {},
     "output_type": "execute_result"
    }
   ],
   "source": [
    "learner2.predict(clean_df.iloc[2])"
   ]
  },
  {
   "cell_type": "code",
   "execution_count": 65,
   "id": "8e6bbb42",
   "metadata": {},
   "outputs": [
    {
     "data": {
      "text/plain": [
       "array([0.61501803, 0.6621681 ])"
      ]
     },
     "execution_count": 65,
     "metadata": {},
     "output_type": "execute_result"
    }
   ],
   "source": [
    "np.random.random(2)"
   ]
  },
  {
   "cell_type": "code",
   "execution_count": null,
   "id": "de973335",
   "metadata": {},
   "outputs": [],
   "source": []
  }
 ],
 "metadata": {
  "kernelspec": {
   "display_name": "Python 3 (ipykernel)",
   "language": "python",
   "name": "python3"
  },
  "language_info": {
   "codemirror_mode": {
    "name": "ipython",
    "version": 3
   },
   "file_extension": ".py",
   "mimetype": "text/x-python",
   "name": "python",
   "nbconvert_exporter": "python",
   "pygments_lexer": "ipython3",
   "version": "3.8.13"
  }
 },
 "nbformat": 4,
 "nbformat_minor": 5
}

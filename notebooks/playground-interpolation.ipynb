{
 "cells": [
  {
   "cell_type": "code",
   "execution_count": 44,
   "id": "9bc76fe2",
   "metadata": {},
   "outputs": [],
   "source": [
    "from scipy import interpolate\n",
    "import numpy as np\n",
    "import matplotlib.pyplot as plt"
   ]
  },
  {
   "cell_type": "code",
   "execution_count": 118,
   "id": "a36355f9",
   "metadata": {},
   "outputs": [],
   "source": [
    "x_points = [3, 10., 30]\n",
    "y_points = [1., 0.5, 0.3]\n",
    "\n",
    "def g(x):\n",
    "    #spl = interpolate.UnivariateSpline(x_points, y_points, k=2, ext=3)\n",
    "    spl = interpolate.UnivariateSpline(x_points, y_points, k=4, ext=0)\n",
    "    return spl(x)\n",
    "\n",
    "def h(t):\n",
    "    f = interpolate.interp1d(x_points, y_points, fill_value='extrapolate')\n",
    "    to_return = f(t)\n",
    "    return np.array([i for i in to_return])\n",
    "\n",
    "def h2(t):    \n",
    "    f2 = interpolate.interp1d(x_points, y_points, kind='cubic')\n",
    "    return f2(t)\n",
    "\n",
    "def h3(t):\n",
    "    f2 = interpolate.interp1d(x_points, y_points, kind='linear', fill_value='extrapolate')\n",
    "    return f2(t)"
   ]
  },
  {
   "cell_type": "code",
   "execution_count": 119,
   "id": "983fe63d",
   "metadata": {},
   "outputs": [],
   "source": [
    "#interpolate.interp1d([3, 10., 30], [1., 0.5, 0.3], kind='cubic', fill_value='extrapolate')(30)"
   ]
  },
  {
   "cell_type": "code",
   "execution_count": 120,
   "id": "1a9ac560",
   "metadata": {},
   "outputs": [
    {
     "data": {
      "image/png": "[encoded data removed]",
      "text/plain": [
       "<Figure size 432x288 with 1 Axes>"
      ]
     },
     "metadata": {
      "needs_background": "light"
     },
     "output_type": "display_data"
    }
   ],
   "source": [
    "x = range(1, 35)\n",
    "\n",
    "fig, ax = plt.subplots()\n",
    "#plt.plot(x, g(x), label='g')\n",
    "#plt.plot(x, h(x), label='h')\n",
    "#plt.plot(x, h2(x), label='h2')\n",
    "plt.plot(x, h3(x), label='h2')\n",
    "\n",
    "plt.xlabel('Points per game (PPG)')\n",
    "plt.ylabel('Std deviation (%)')\n",
    "plt.legend()\n",
    "plt.show()"
   ]
  },
  {
   "cell_type": "code",
   "execution_count": 86,
   "id": "a9d3029f",
   "metadata": {},
   "outputs": [],
   "source": [
    "# Linear regression would also be a valid option for finding missing values"
   ]
  },
  {
   "cell_type": "code",
   "execution_count": 91,
   "id": "12640346",
   "metadata": {},
   "outputs": [],
   "source": [
    "a=h([2])"
   ]
  },
  {
   "cell_type": "code",
   "execution_count": 94,
   "id": "7fcffb48",
   "metadata": {},
   "outputs": [
    {
     "data": {
      "text/plain": [
       "1.0714285714285714"
      ]
     },
     "execution_count": 94,
     "metadata": {},
     "output_type": "execute_result"
    }
   ],
   "source": [
    "float(a)"
   ]
  },
  {
   "cell_type": "code",
   "execution_count": 102,
   "id": "e92346f3",
   "metadata": {},
   "outputs": [
    {
     "data": {
      "text/plain": [
       "(array([1., 0., 0., 0., 0., 0., 0., 0., 0., 0., 0., 0., 0., 0., 0., 0., 0.,\n",
       "        0., 0., 0., 1., 0., 0., 0., 0., 0., 1., 0., 0., 2., 0., 1., 0., 0.,\n",
       "        0., 0., 0., 1., 0., 0., 0., 0., 0., 0., 0., 1., 0., 0., 0., 2.]),\n",
       " array([-2.5331727 , -2.45946305, -2.3857534 , -2.31204374, -2.23833409,\n",
       "        -2.16462444, -2.09091478, -2.01720513, -1.94349548, -1.86978582,\n",
       "        -1.79607617, -1.72236652, -1.64865686, -1.57494721, -1.50123756,\n",
       "        -1.4275279 , -1.35381825, -1.2801086 , -1.20639894, -1.13268929,\n",
       "        -1.05897964, -0.98526998, -0.91156033, -0.83785068, -0.76414102,\n",
       "        -0.69043137, -0.61672172, -0.54301206, -0.46930241, -0.39559276,\n",
       "        -0.3218831 , -0.24817345, -0.1744638 , -0.10075414, -0.02704449,\n",
       "         0.04666516,  0.12037481,  0.19408447,  0.26779412,  0.34150377,\n",
       "         0.41521343,  0.48892308,  0.56263273,  0.63634239,  0.71005204,\n",
       "         0.78376169,  0.85747135,  0.931181  ,  1.00489065,  1.07860031,\n",
       "         1.15230996]),\n",
       " <BarContainer object of 50 artists>)"
      ]
     },
     "execution_count": 102,
     "metadata": {},
     "output_type": "execute_result"
    },
    {
     "data": {
      "image/png": "[encoded data removed]",
      "text/plain": [
       "<Figure size 432x288 with 1 Axes>"
      ]
     },
     "metadata": {
      "needs_background": "light"
     },
     "output_type": "display_data"
    }
   ],
   "source": [
    "z = np.random.normal(0, 1, 10)\n",
    "plt.hist(z, bins=50)"
   ]
  },
  {
   "cell_type": "code",
   "execution_count": 105,
   "id": "2a3fe200",
   "metadata": {},
   "outputs": [
    {
     "data": {
      "text/plain": [
       "0.6972805971128886"
      ]
     },
     "execution_count": 105,
     "metadata": {},
     "output_type": "execute_result"
    }
   ],
   "source": [
    "float(np.random.normal(0,1,1))"
   ]
  },
  {
   "cell_type": "code",
   "execution_count": null,
   "id": "0aced0ac",
   "metadata": {},
   "outputs": [],
   "source": []
  }
 ],
 "metadata": {
  "kernelspec": {
   "display_name": "Python 3 (ipykernel)",
   "language": "python",
   "name": "python3"
  },
  "language_info": {
   "codemirror_mode": {
    "name": "ipython",
    "version": 3
   },
   "file_extension": ".py",
   "mimetype": "text/x-python",
   "name": "python",
   "nbconvert_exporter": "python",
   "pygments_lexer": "ipython3",
   "version": "3.8.13"
  }
 },
 "nbformat": 4,
 "nbformat_minor": 5
}
